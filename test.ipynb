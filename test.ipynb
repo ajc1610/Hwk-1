{
 "cells": [
  {
   "cell_type": "code",
   "execution_count": 30,
   "metadata": {},
   "outputs": [],
   "source": [
    "import sqlite3\n",
    "import pandas as pd\n",
    "\n",
    "cnx = sqlite3.connect('/home/ohno/Hwk-1/IPEDS202223.db/IPEDS202223.db')\n",
    "\n",
    "cursor = cnx.cursor()\n",
    "cursor.execute(\"SELECT name FROM sqlite_master WHERE type='table';\")\n",
    "tables = [table[0] for table in cursor.fetchall()]\n",
    "keep = [\n",
    "    \"ADM2022\",\n",
    "    \"AL2022\",\n",
    "    \"C2022_A\",\n",
    "    \"C_2022_DEP\",\n",
    "    \"DRVADM2022\",\n",
    "    \"DRVOM2022\",\n",
    "    \"EF2022CP\",\n",
    "    \"EF2022D\",\n",
    "    \"GR200_22\",\n",
    "    \"GR2022\",\n",
    "    \"GR2022_GENDER\",\n",
    "    \"GR2022_L2\",\n",
    "    \"GR2022_PELL_SSL\",\n",
    "    \"OM2022\",\n",
    "    \"SFA2122_P1\",\n",
    "    \"SFA2122_P2\",\n",
    "    \"SFAV2122\",\n",
    "    \"S2022_IS\",\n",
    "]\n",
    "dfs = {\n",
    "    table: pd.read_sql_query(f\"SELECT * FROM {table}\", cnx) \n",
    "    for table in tables\n",
    "    if table in keep\n",
    "}"
   ]
  },
  {
   "cell_type": "code",
   "execution_count": 31,
   "metadata": {},
   "outputs": [],
   "source": [
    "for table, df in dfs.items():\n",
    "    df.to_csv(f\"{table}.csv\", index=False)"
   ]
  },
  {
   "cell_type": "markdown",
   "metadata": {},
   "source": [
    "programmes: i want to do X, -> THE / US news rankings, lafayette ranking high\n",
    "admission rate: selective, < 40 % (trouver stat qui confirme que college selectif -> meilleur graduation rate et employment rate)\n",
    "completion rates: trouver moyenne ivy league, comparer lafayette, montrer qu'on est bien\n",
    "financial aid: trouver % d'étudiant, % de frais couverts, combien dans ta situation, correlation aid-graduation\n",
    "dotation: trouver budget total école + ton département\n",
    "DEI: montrer que ratio f/h et minorités élevé, au-dessus moyenne. oublie pas lgbtqwerty+++++ et disabled access initiative\n",
    "insertion pro: employment post-graduate, average salary, enrolment in grad school, (optionel, chiant à computer: average qs ranking of grad school)\n",
    "\n",
    "-> dynamique ascendante: montrer que les métriques importantes s'améliorent entre les deux fichiers\n",
    "\n",
    "présentation:\n",
    "\n",
    "pour chaque question, écris une cellule / fonction qui utilise pandas pour computer ton chiffre + quelques plots\n",
    "pour les plots: orange, bleu, violet"
   ]
  },
  {
   "cell_type": "code",
   "execution_count": null,
   "metadata": {},
   "outputs": [],
   "source": []
  }
 ],
 "metadata": {
  "kernelspec": {
   "display_name": ".venv",
   "language": "python",
   "name": "python3"
  },
  "language_info": {
   "codemirror_mode": {
    "name": "ipython",
    "version": 3
   },
   "file_extension": ".py",
   "mimetype": "text/x-python",
   "name": "python",
   "nbconvert_exporter": "python",
   "pygments_lexer": "ipython3",
   "version": "3.10.12"
  }
 },
 "nbformat": 4,
 "nbformat_minor": 2
}
